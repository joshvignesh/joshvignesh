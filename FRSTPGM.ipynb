{
 "cells": [
  {
   "cell_type": "code",
   "execution_count": 1,
   "metadata": {},
   "outputs": [
    {
     "name": "stdout",
     "output_type": "stream",
     "text": [
      "['Hello Vignesh']\n"
     ]
    }
   ],
   "source": [
    "a= [\"Hello Vignesh\"]\n",
    "print (a)"
   ]
  },
  {
   "cell_type": "code",
   "execution_count": 3,
   "metadata": {},
   "outputs": [
    {
     "data": {
      "text/plain": [
       "['djkcbhdkjcbs/\\n',\n",
       " 'slkjdclkjdsj\\n',\n",
       " 'dskjkcsjkjsddjkcbhdkjcbs/\\n',\n",
       " 'slkjdclkjdsj\\n',\n",
       " 'dskjkcsjkjsdWelcome/\\\\All\\\\Going to Learn Pandas']"
      ]
     },
     "execution_count": 3,
     "metadata": {},
     "output_type": "execute_result"
    }
   ],
   "source": [
    "\n",
    "import pandas as pd\n",
    "#txt\n",
    "txtFile = open(\"./Candy.txt\",\"a+\")\n",
    "txtFile.write(\"Welcome/\")\n",
    "txtFile.write(\"\\All\")\n",
    "txtFile.write(\"\\Going to Learn Pandas\")\n",
    "txtFile.close()\n",
    "txtRead = open(\"./Candy.txt\",\"r\")\n",
    "txtRead.readlines()"
   ]
  },
  {
   "cell_type": "code",
   "execution_count": 56,
   "metadata": {},
   "outputs": [
    {
     "name": "stdout",
     "output_type": "stream",
     "text": [
      "[[5. 7. 7. 3.]\n",
      " [9. 8. 6. 2.]\n",
      " [9. 4. 6. 7.]]\n",
      "[[5. 9. 9.]\n",
      " [7. 8. 4.]\n",
      " [7. 6. 6.]\n",
      " [3. 2. 7.]]\n",
      "(4, 3)\n",
      "(3, 4)\n"
     ]
    }
   ],
   "source": [
    "import numpy as np\n",
    "i = np.floor(10*np.random.random((3,4)))\n",
    "print(i)\n",
    "print(i.T) \n",
    "print(i.T.shape)\n",
    "print(i.shape)\n"
   ]
  },
  {
   "cell_type": "code",
   "execution_count": 37,
   "metadata": {},
   "outputs": [
    {
     "name": "stdout",
     "output_type": "stream",
     "text": [
      "[2 3 4]\n",
      "[[1 2]\n",
      " [3 4]]\n",
      "[[0. 0. 0. 0.]\n",
      " [0. 0. 0. 0.]\n",
      " [0. 0. 0. 0.]]\n",
      "[[1. 1. 1. 1.]\n",
      " [1. 1. 1. 1.]\n",
      " [1. 1. 1. 1.]]\n",
      "[[0 0 0 0]\n",
      " [0 0 0 0]\n",
      " [0 0 0 0]]\n",
      "[[1 1 1 1]\n",
      " [1 1 1 1]\n",
      " [1 1 1 1]]\n"
     ]
    }
   ],
   "source": [
    "import numpy as np\n",
    "a = np.array([2,3,4])\n",
    "b = np.array( [ [1,2], [3,4] ])\n",
    "c = np.zeros( (3,4) )\n",
    "d = np.ones( (3,4) )\n",
    "e = np.zeros( (3,4),dtype=np.int16)\n",
    "f = np.ones( (3,4),dtype=np.int16)\n",
    "g = np.arange(15).reshape(3, 5)\n",
    "\n",
    "\n",
    "print(c)\n",
    "print(d)\n",
    "print(e)\n",
    "print(f)"
   ]
  },
  {
   "cell_type": "code",
   "execution_count": 8,
   "metadata": {},
   "outputs": [
    {
     "name": "stdout",
     "output_type": "stream",
     "text": [
      "[[0. 0. 0. 0.]\n",
      " [0. 0. 0. 0.]\n",
      " [0. 0. 0. 0.]]\n"
     ]
    }
   ],
   "source": [
    "\n",
    "s1 = np.zeros((3,4)) \n",
    "print(s1)    "
   ]
  },
  {
   "cell_type": "code",
   "execution_count": 5,
   "metadata": {},
   "outputs": [
    {
     "name": "stdout",
     "output_type": "stream",
     "text": [
      "10\n"
     ]
    }
   ],
   "source": [
    "import random\n",
    "health = 50\n",
    "r =random.randint(10,20)\n",
    "print(r)\n",
    "\n",
    "\n"
   ]
  },
  {
   "cell_type": "code",
   "execution_count": 3,
   "metadata": {},
   "outputs": [
    {
     "name": "stdout",
     "output_type": "stream",
     "text": [
      "[[0. 0. 0.]\n",
      " [0. 0. 0.]]\n",
      "(2, 3)\n"
     ]
    }
   ],
   "source": [
    "import numpy as np\n",
    "s = np.zeros((2,3))\n",
    "print(s)\n",
    "print (s.shape)\n",
    "\n"
   ]
  },
  {
   "cell_type": "code",
   "execution_count": 21,
   "metadata": {},
   "outputs": [
    {
     "name": "stdout",
     "output_type": "stream",
     "text": [
      "[[[1 1 1 1]\n",
      "  [1 1 1 1]\n",
      "  [1 1 1 1]]\n",
      "\n",
      " [[1 1 1 1]\n",
      "  [1 1 1 1]\n",
      "  [1 1 1 1]]]\n"
     ]
    }
   ],
   "source": [
    "x1 = np.ones((2,3,4),dtype=np.int16)\n",
    "print(x1)"
   ]
  },
  {
   "cell_type": "code",
   "execution_count": 22,
   "metadata": {},
   "outputs": [
    {
     "name": "stdout",
     "output_type": "stream",
     "text": [
      "[10 15 20]\n"
     ]
    }
   ],
   "source": [
    "d = np.arange(10,25,5)\n",
    "print(d)"
   ]
  },
  {
   "cell_type": "code",
   "execution_count": 66,
   "metadata": {},
   "outputs": [
    {
     "name": "stdout",
     "output_type": "stream",
     "text": [
      "[0.         0.66666667 1.33333333 2.        ]\n",
      "4\n"
     ]
    }
   ],
   "source": [
    "i = np.linspace(0,2,4)\n",
    "print(i)\n",
    "print(len(i))"
   ]
  },
  {
   "cell_type": "code",
   "execution_count": 68,
   "metadata": {},
   "outputs": [
    {
     "name": "stdout",
     "output_type": "stream",
     "text": [
      "[[7 7]\n",
      " [7 7]]\n",
      "2\n",
      "[[1. 0. 0. 0. 0.]\n",
      " [0. 1. 0. 0. 0.]\n",
      " [0. 0. 1. 0. 0.]\n",
      " [0. 0. 0. 1. 0.]\n",
      " [0. 0. 0. 0. 1.]]\n",
      "2\n"
     ]
    }
   ],
   "source": [
    "e = np.full((2,2),7)\n",
    "print(e)\n",
    "print(e.ndim)\n",
    "f= np.eye(5)\n",
    "print(f)\n",
    "print(f.ndim)"
   ]
  },
  {
   "cell_type": "code",
   "execution_count": 36,
   "metadata": {},
   "outputs": [
    {
     "name": "stdout",
     "output_type": "stream",
     "text": [
      "[[0.22244753 0.43478635]\n",
      " [0.02127278 0.07192584]]\n"
     ]
    }
   ],
   "source": [
    "a = np.random.random((2,2))\n",
    "print(a)"
   ]
  },
  {
   "cell_type": "code",
   "execution_count": 12,
   "metadata": {},
   "outputs": [
    {
     "name": "stdout",
     "output_type": "stream",
     "text": [
      "[[[4.11690367e-312 0.00000000e+000 1.01853707e+248]\n",
      "  [9.68109855e+183 3.26468258e-032 4.28430600e-037]\n",
      "  [1.78734640e-051 4.91850503e-143 2.14027814e+161]]\n",
      "\n",
      " [[5.04621383e+180 4.50618615e-144 7.79952704e-143]\n",
      "  [1.20102524e-071 3.30398837e+179 1.81695665e+185]\n",
      "  [3.85778622e-057 2.16385138e+190 8.37170577e-144]]\n",
      "\n",
      " [[3.51151606e+151 1.04816985e-142 4.82337433e+228]\n",
      "  [5.82381892e-144 1.16097020e-028 6.00025443e-067]\n",
      "  [6.36886026e-062 1.91890957e-076 6.79767610e-310]]]\n",
      "3\n"
     ]
    }
   ],
   "source": [
    "s = np.empty((3,3,3))\n",
    "print(s)\n",
    "print(s.ndim)"
   ]
  },
  {
   "cell_type": "code",
   "execution_count": 15,
   "metadata": {},
   "outputs": [
    {
     "name": "stdout",
     "output_type": "stream",
     "text": [
      "<class 'numpy.ndarray'>\n",
      "(3,)\n",
      "1 2 3\n",
      "[5 2 3]\n",
      "(2, 3)\n",
      "1 2 4\n"
     ]
    }
   ],
   "source": [
    "import numpy as np\n",
    "\n",
    "a = np.array([1, 2, 3])   # Create a rank 1 array\n",
    "print(type(a))    # Prints \"<class 'numpy.ndarray'>\"\n",
    "print(a.shape)            # Prints \"(3,)\"\n",
    "print(a[0], a[1], a[2])   # Prints \"1 2 3\"\n",
    "a[0] = 5                  # Change an element of the array\n",
    "print(a)                  # Prints \"[5, 2, 3]\"\n",
    "\n",
    "b = np.array([[1,2,3],[4,5,6]])    # Create a rank 2 array\n",
    "print(b.shape)                     # Prints \"(2, 3)\"\n",
    "print(b[0, 0], b[0, 1], b[1, 0])   # Prints \"1 2 4\"\n"
   ]
  },
  {
   "cell_type": "code",
   "execution_count": 7,
   "metadata": {},
   "outputs": [],
   "source": [
    "a = np.array([1,2,3]) \n",
    "b = np.array([(1.5,2,3), (4,5,6)], dtype = float) \n",
    "c = np.array([[(1.5,2,3), (4,5,6)], [(3,2,1), (4,5,6)]], dtype = float)\n",
    "e = np.full((2,2),7)\n"
   ]
  },
  {
   "cell_type": "code",
   "execution_count": 8,
   "metadata": {},
   "outputs": [
    {
     "name": "stdout",
     "output_type": "stream",
     "text": [
      "[1 2 3]\n",
      "(3,)\n",
      "[[1.5 2.  3. ]\n",
      " [4.  5.  6. ]]\n",
      "(2, 3)\n",
      "2\n",
      "2\n",
      "float64\n",
      "float64\n",
      "[[1 2 3]\n",
      " [4 5 6]]\n",
      "[[7 7]\n",
      " [7 7]]\n",
      "4\n"
     ]
    }
   ],
   "source": [
    "print(a)\n",
    "print(a.shape)                \n",
    "print(b)\n",
    "print(b.shape) \n",
    "print(b.ndim)\n",
    "print(b.dtype)\n",
    "print(b.dtype.name)\n",
    "print(b.astype(int))\n",
    "print(e)\n",
    "print(e.size)\n"
   ]
  },
  {
   "cell_type": "code",
   "execution_count": 76,
   "metadata": {},
   "outputs": [
    {
     "name": "stdout",
     "output_type": "stream",
     "text": [
      "Data-type of the array's elements.\n",
      "\n",
      "Parameters\n",
      "----------\n",
      "None\n",
      "\n",
      "Returns\n",
      "-------\n",
      "d : numpy dtype object\n",
      "\n",
      "See Also\n",
      "--------\n",
      "numpy.dtype\n",
      "\n",
      "Examples\n",
      "--------\n",
      ">>> x\n",
      "array([[0, 1],\n",
      "       [2, 3]])\n",
      ">>> x.dtype\n",
      "dtype('int32')\n",
      ">>> type(x.dtype)\n",
      "<type 'numpy.dtype'>\n"
     ]
    }
   ],
   "source": [
    "np.info(np.ndarray.dtype)"
   ]
  },
  {
   "cell_type": "code",
   "execution_count": 79,
   "metadata": {},
   "outputs": [
    {
     "name": "stdout",
     "output_type": "stream",
     "text": [
      "[1 2 3]\n",
      "[[1.5 2.  3. ]\n",
      " [4.  5.  6. ]]\n",
      "[[-0.5  0.   0. ]\n",
      " [-3.  -3.  -3. ]]\n"
     ]
    }
   ],
   "source": [
    "g = a - b\n",
    "print(a)\n",
    "print(b)\n",
    "print(g)"
   ]
  },
  {
   "cell_type": "code",
   "execution_count": 80,
   "metadata": {},
   "outputs": [
    {
     "name": "stdout",
     "output_type": "stream",
     "text": [
      "[[2.5 4.  6. ]\n",
      " [5.  7.  9. ]]\n"
     ]
    }
   ],
   "source": [
    "sum = np.add(b,a)\n",
    "print(sum)"
   ]
  },
  {
   "cell_type": "code",
   "execution_count": 81,
   "metadata": {},
   "outputs": [
    {
     "name": "stdout",
     "output_type": "stream",
     "text": [
      "6\n"
     ]
    }
   ],
   "source": [
    "su = a.sum()\n",
    "print(su)"
   ]
  },
  {
   "cell_type": "code",
   "execution_count": 82,
   "metadata": {},
   "outputs": [
    {
     "name": "stdout",
     "output_type": "stream",
     "text": [
      "[1 2 3]\n",
      "[1 2 3]\n"
     ]
    }
   ],
   "source": [
    "h = a.view()\n",
    "print(a)\n",
    "print(h)\n"
   ]
  },
  {
   "cell_type": "code",
   "execution_count": 83,
   "metadata": {},
   "outputs": [
    {
     "name": "stdout",
     "output_type": "stream",
     "text": [
      "[1 2 3]\n"
     ]
    }
   ],
   "source": [
    "j = np.copy(a)\n",
    "print(j)"
   ]
  },
  {
   "cell_type": "code",
   "execution_count": 84,
   "metadata": {},
   "outputs": [
    {
     "name": "stdout",
     "output_type": "stream",
     "text": [
      "[1 2 3]\n"
     ]
    }
   ],
   "source": [
    "h = a.copy()\n",
    "print(h)"
   ]
  },
  {
   "cell_type": "code",
   "execution_count": 19,
   "metadata": {},
   "outputs": [
    {
     "name": "stdout",
     "output_type": "stream",
     "text": [
      "[5 6 7 8] (4,)\n",
      "[[5 6 7 8]] (1, 4)\n",
      "77\n",
      "[[77  3]\n",
      " [ 6  7]]\n",
      "[[ 1 77  3  4]\n",
      " [ 5  6  7  8]\n",
      " [ 9 10 11 12]]\n"
     ]
    }
   ],
   "source": [
    "a = np.array([[1,2,3,4], [5,6,7,8], [9,10,11,12]])\n",
    "b = a[:2, 1:3]\n",
    "\n",
    "row_r1 = a[1, :]    # Rank 1 view of the second row of a\n",
    "row_r2 = a[1:2, :]  # Rank 2 view of the second row of a\n",
    "print(row_r1, row_r1.shape)  # Prints \"[5 6 7 8] (4,)\"\n",
    "print(row_r2, row_r2.shape)\n",
    "b[0, 0] = 77  \n",
    "print(a[0, 1]) \n",
    "print(b)\n",
    "print(a)\n"
   ]
  },
  {
   "cell_type": "code",
   "execution_count": 2,
   "metadata": {},
   "outputs": [
    {
     "name": "stdout",
     "output_type": "stream",
     "text": [
      "Tic-Tac-Toe\n",
      "   ---  ---   ---\n",
      "  |    |    |    | \n",
      "   ---  ---   ---\n",
      "  |    |    |    | \n",
      "   ---  ---   ---\n",
      "  |    |    |    | \n",
      "   ---  ---   ---\n",
      "Player 1 has to play..\n",
      "Enter the position : 1\n",
      "   ---  ---   ---\n",
      "  | x  |    |    | \n",
      "   ---  ---   ---\n",
      "  |    |    |    | \n",
      "   ---  ---   ---\n",
      "  |    |    |    | \n",
      "   ---  ---   ---\n",
      "Player 2 has to play...\n",
      "   ---  ---   ---\n",
      "  | x  |    | o  | \n",
      "   ---  ---   ---\n",
      "  |    |    |    | \n",
      "   ---  ---   ---\n",
      "  |    |    |    | \n",
      "   ---  ---   ---\n",
      "Player 1 has to play..\n",
      "Enter the position : 6\n",
      "   ---  ---   ---\n",
      "  | x  |    | o  | \n",
      "   ---  ---   ---\n",
      "  |    |    | x  | \n",
      "   ---  ---   ---\n",
      "  |    |    |    | \n",
      "   ---  ---   ---\n",
      "Player 2 has to play...\n",
      "   ---  ---   ---\n",
      "  | x  |    | o  | \n",
      "   ---  ---   ---\n",
      "  |    |    | x  | \n",
      "   ---  ---   ---\n",
      "  |    |    | o  | \n",
      "   ---  ---   ---\n",
      "Player 1 has to play..\n",
      "Enter the position : 2\n",
      "   ---  ---   ---\n",
      "  | x  | x  | o  | \n",
      "   ---  ---   ---\n",
      "  |    |    | x  | \n",
      "   ---  ---   ---\n",
      "  |    |    | o  | \n",
      "   ---  ---   ---\n",
      "Player 2 has to play...\n",
      "Specified cell is already filled. Please select different cel\n",
      "   ---  ---   ---\n",
      "  | x  | x  | o  | \n",
      "   ---  ---   ---\n",
      "  |    |    | x  | \n",
      "   ---  ---   ---\n",
      "  |    |    | o  | \n",
      "   ---  ---   ---\n",
      "Player 2 has to play...\n",
      "Specified cell is already filled. Please select different cel\n",
      "   ---  ---   ---\n",
      "  | x  | x  | o  | \n",
      "   ---  ---   ---\n",
      "  |    |    | x  | \n",
      "   ---  ---   ---\n",
      "  |    |    | o  | \n",
      "   ---  ---   ---\n",
      "Player 2 has to play...\n",
      "Specified cell is already filled. Please select different cel\n",
      "   ---  ---   ---\n",
      "  | x  | x  | o  | \n",
      "   ---  ---   ---\n",
      "  |    |    | x  | \n",
      "   ---  ---   ---\n",
      "  |    |    | o  | \n",
      "   ---  ---   ---\n",
      "Player 2 has to play...\n",
      "Specified cell is already filled. Please select different cel\n",
      "   ---  ---   ---\n",
      "  | x  | x  | o  | \n",
      "   ---  ---   ---\n",
      "  |    |    | x  | \n",
      "   ---  ---   ---\n",
      "  |    |    | o  | \n",
      "   ---  ---   ---\n",
      "Player 2 has to play...\n",
      "Specified cell is already filled. Please select different cel\n",
      "   ---  ---   ---\n",
      "  | x  | x  | o  | \n",
      "   ---  ---   ---\n",
      "  |    |    | x  | \n",
      "   ---  ---   ---\n",
      "  |    |    | o  | \n",
      "   ---  ---   ---\n",
      "Player 2 has to play...\n",
      "Specified cell is already filled. Please select different cel\n",
      "   ---  ---   ---\n",
      "  | x  | x  | o  | \n",
      "   ---  ---   ---\n",
      "  |    |    | x  | \n",
      "   ---  ---   ---\n",
      "  |    |    | o  | \n",
      "   ---  ---   ---\n",
      "Player 2 has to play...\n",
      "Specified cell is already filled. Please select different cel\n",
      "   ---  ---   ---\n",
      "  | x  | x  | o  | \n",
      "   ---  ---   ---\n",
      "  |    |    | x  | \n",
      "   ---  ---   ---\n",
      "  |    |    | o  | \n",
      "   ---  ---   ---\n",
      "Player 2 has to play...\n",
      "Specified cell is already filled. Please select different cel\n",
      "   ---  ---   ---\n",
      "  | x  | x  | o  | \n",
      "   ---  ---   ---\n",
      "  |    |    | x  | \n",
      "   ---  ---   ---\n",
      "  |    |    | o  | \n",
      "   ---  ---   ---\n",
      "Player 2 has to play...\n",
      "Specified cell is already filled. Please select different cel\n",
      "   ---  ---   ---\n",
      "  | x  | x  | o  | \n",
      "   ---  ---   ---\n",
      "  |    |    | x  | \n",
      "   ---  ---   ---\n",
      "  |    |    | o  | \n",
      "   ---  ---   ---\n",
      "Player 2 has to play...\n",
      "Specified cell is already filled. Please select different cel\n",
      "   ---  ---   ---\n",
      "  | x  | x  | o  | \n",
      "   ---  ---   ---\n",
      "  |    |    | x  | \n",
      "   ---  ---   ---\n",
      "  |    |    | o  | \n",
      "   ---  ---   ---\n",
      "Player 2 has to play...\n",
      "   ---  ---   ---\n",
      "  | x  | x  | o  | \n",
      "   ---  ---   ---\n",
      "  |    | o  | x  | \n",
      "   ---  ---   ---\n",
      "  |    |    | o  | \n",
      "   ---  ---   ---\n",
      "Player 1 has to play..\n",
      "Enter the position : 3\n",
      "Specified cell is already filled. Please select different cel\n",
      "   ---  ---   ---\n",
      "  | x  | x  | o  | \n",
      "   ---  ---   ---\n",
      "  |    | o  | x  | \n",
      "   ---  ---   ---\n",
      "  |    |    | o  | \n",
      "   ---  ---   ---\n",
      "Player 1 has to play..\n",
      "Enter the position : 4\n",
      "   ---  ---   ---\n",
      "  | x  | x  | o  | \n",
      "   ---  ---   ---\n",
      "  | x  | o  | x  | \n",
      "   ---  ---   ---\n",
      "  |    |    | o  | \n",
      "   ---  ---   ---\n",
      "Player 2 has to play...\n",
      "Specified cell is already filled. Please select different cel\n",
      "   ---  ---   ---\n",
      "  | x  | x  | o  | \n",
      "   ---  ---   ---\n",
      "  | x  | o  | x  | \n",
      "   ---  ---   ---\n",
      "  |    |    | o  | \n",
      "   ---  ---   ---\n",
      "Player 2 has to play...\n",
      "Specified cell is already filled. Please select different cel\n",
      "   ---  ---   ---\n",
      "  | x  | x  | o  | \n",
      "   ---  ---   ---\n",
      "  | x  | o  | x  | \n",
      "   ---  ---   ---\n",
      "  |    |    | o  | \n",
      "   ---  ---   ---\n",
      "Player 2 has to play...\n",
      "Specified cell is already filled. Please select different cel\n",
      "   ---  ---   ---\n",
      "  | x  | x  | o  | \n",
      "   ---  ---   ---\n",
      "  | x  | o  | x  | \n",
      "   ---  ---   ---\n",
      "  |    |    | o  | \n",
      "   ---  ---   ---\n",
      "Player 2 has to play...\n",
      "Specified cell is already filled. Please select different cel\n",
      "   ---  ---   ---\n",
      "  | x  | x  | o  | \n",
      "   ---  ---   ---\n",
      "  | x  | o  | x  | \n",
      "   ---  ---   ---\n",
      "  |    |    | o  | \n",
      "   ---  ---   ---\n",
      "Player 2 has to play...\n",
      "Specified cell is already filled. Please select different cel\n",
      "   ---  ---   ---\n",
      "  | x  | x  | o  | \n",
      "   ---  ---   ---\n",
      "  | x  | o  | x  | \n",
      "   ---  ---   ---\n",
      "  |    |    | o  | \n",
      "   ---  ---   ---\n",
      "Player 2 has to play...\n",
      "Specified cell is already filled. Please select different cel\n",
      "   ---  ---   ---\n",
      "  | x  | x  | o  | \n",
      "   ---  ---   ---\n",
      "  | x  | o  | x  | \n",
      "   ---  ---   ---\n",
      "  |    |    | o  | \n",
      "   ---  ---   ---\n",
      "Player 2 has to play...\n",
      "Specified cell is already filled. Please select different cel\n",
      "   ---  ---   ---\n",
      "  | x  | x  | o  | \n",
      "   ---  ---   ---\n",
      "  | x  | o  | x  | \n",
      "   ---  ---   ---\n",
      "  |    |    | o  | \n",
      "   ---  ---   ---\n",
      "Player 2 has to play...\n",
      "Specified cell is already filled. Please select different cel\n",
      "   ---  ---   ---\n",
      "  | x  | x  | o  | \n",
      "   ---  ---   ---\n",
      "  | x  | o  | x  | \n",
      "   ---  ---   ---\n",
      "  |    |    | o  | \n",
      "   ---  ---   ---\n",
      "Player 2 has to play...\n",
      "Specified cell is already filled. Please select different cel\n",
      "   ---  ---   ---\n",
      "  | x  | x  | o  | \n",
      "   ---  ---   ---\n",
      "  | x  | o  | x  | \n",
      "   ---  ---   ---\n",
      "  |    |    | o  | \n",
      "   ---  ---   ---\n",
      "Player 2 has to play...\n",
      "Specified cell is already filled. Please select different cel\n",
      "   ---  ---   ---\n",
      "  | x  | x  | o  | \n",
      "   ---  ---   ---\n",
      "  | x  | o  | x  | \n",
      "   ---  ---   ---\n",
      "  |    |    | o  | \n",
      "   ---  ---   ---\n",
      "Player 2 has to play...\n",
      "   ---  ---   ---\n",
      "  | x  | x  | o  | \n",
      "   ---  ---   ---\n",
      "  | x  | o  | x  | \n",
      "   ---  ---   ---\n",
      "  | o  |    | o  | \n",
      "   ---  ---   ---\n",
      "Player 2 won the game...\n"
     ]
    }
   ],
   "source": [
    "import random as rm\n",
    "\n",
    "import numpy as np\n",
    "\n",
    "a=[' ',' ',' ',' ',' ',' ',' ',' ',' ']\n",
    "m=np.reshape(a,[3,3])\n",
    "i=1\n",
    "userInput = {1: [0, 0], 2: [0, 1], 3: [0, 2], 4: [1, 0], 5: [1, 1], 6: [1, 2], 7: [2, 0], 8: [2, 1], 9: [2, 2]}\n",
    "\n",
    "def display(a):\n",
    "    print (\"   ---  ---   ---\")\n",
    "    print ('  | ' +'' +a[0][0]+ '  | ' +a[0][1]+ '  | ' +a[0][2]+'  | ' )\n",
    "    print (\"   ---  ---   ---\")\n",
    "    print ('  | ' +'' +a[1][0]+ '  | ' +a[1][1]+ '  | ' +a[1][2]+'  | ' )\n",
    "    print (\"   ---  ---   ---\")\n",
    "    print ('  | ' +'' +a[2][0]+ '  | ' +a[2][1]+ '  | ' +a[2][2]+'  | ' )\n",
    "    print (\"   ---  ---   ---\")\n",
    "\n",
    "def result(val):\n",
    "    if val=='x':\n",
    "        print (\"Player 1 won the game...\")\n",
    "    else:\n",
    "        print (\"Player 2 won the game...\")\n",
    "\n",
    "\n",
    "def check(ele):\n",
    "    if len(set(ele))==1:\n",
    "        return True\n",
    "    else:\n",
    "        return False\n",
    "\n",
    "def diag(m):\n",
    "    d1=list(set([m[0][0],m[1][1],m[2][2]]))\n",
    "    d2=list(set([m[0][2],m[1][1],m[2][0]]))\n",
    "    if (len(d1)==1 and d1[0]!=' ')or (len(d2)==1 and d2[0]!=' '):\n",
    "        return True\n",
    "    else:\n",
    "        return False\n",
    "\n",
    "\n",
    "print(\"Tic-Tac-Toe\")\n",
    "while i <= 9:\n",
    "    val='0'\n",
    "    display(m)\n",
    "    if i%2!=0:\n",
    "        print (\"Player 1 has to play..\")\n",
    "        val=\"x\"\n",
    "        cell = int(input(\"Enter the position : \"))\n",
    "    else:\n",
    "        print (\"Player 2 has to play...\")\n",
    "        val='o'\n",
    "        cell = rm.choice([1, 2, 3, 4, 5, 6, 7, 8, 9])\n",
    "    r = userInput[cell][0]\n",
    "    c = userInput[cell][1]    \n",
    "    if m[r][c]==' ':\n",
    "        m[r][c]=val\n",
    "    else:\n",
    "        print(\"Specified cell is already filled. Please select different cel\")\n",
    "        continue\n",
    "    if check(m[r]) or check(m[:, c]):\n",
    "        display(m)\n",
    "        result(val)\n",
    "        break\n",
    "    #     if check(m[:, c]):\n",
    "    #         display(m)\n",
    "    #         result(val)\n",
    "    #         break\n",
    "    if (r,c) in [(0,0),(0,2),(1,1),(2,2),(2,0)]:\n",
    "        if diag(m):\n",
    "            display(m)\n",
    "            result(val)\n",
    "            break\n",
    "    i+=1"
   ]
  },
  {
   "cell_type": "code",
   "execution_count": 68,
   "metadata": {},
   "outputs": [
    {
     "ename": "IndentationError",
     "evalue": "unindent does not match any outer indentation level (<tokenize>, line 6)",
     "output_type": "error",
     "traceback": [
      "\u001b[1;36m  File \u001b[1;32m\"<tokenize>\"\u001b[1;36m, line \u001b[1;32m6\u001b[0m\n\u001b[1;33m    theta = np.r_[0:2*np.pi:50j]\u001b[0m\n\u001b[1;37m    ^\u001b[0m\n\u001b[1;31mIndentationError\u001b[0m\u001b[1;31m:\u001b[0m unindent does not match any outer indentation level\n"
     ]
    }
   ],
   "source": [
    "import numpy as np\n",
    "from scipy import special\n",
    "def drumhead_height(n, k, distance, angle, t):\n",
    "    kth_zero = special.jn_zeros(n, k)[-1]\n",
    "    return np.cos(t) * np.cos(n*angle) * special.jn(n, distance*kth_zero)\n",
    " theta = np.r_[0:2*np.pi:50j]\n",
    " radius = np.r_[0:1:50j]\n",
    " x = np.array([r * np.cos(theta) for r in radius])\n",
    " y = np.array([r * np.sin(theta) for r in radius])\n",
    " z = np.array([drumhead_height(1, 1, r, theta, 0.5) for r in radius])\n",
    "\n",
    " import matplotlib.pyplot as plt\n",
    " from mpl_toolkits.mplot3d import Axes3D\n",
    " from matplotlib import cm\n",
    " fig = plt.figure()\n",
    " ax = Axes3D(fig)\n",
    " ax.plot_surface(x, y, z, rstride=1, cstride=1, cmap=cm.jet)\n",
    " ax.set_xlabel('X')\n",
    " ax.set_ylabel('Y')\n",
    " ax.set_zlabel('Z')\n",
    " plt.show()"
   ]
  },
  {
   "cell_type": "code",
   "execution_count": 1,
   "metadata": {},
   "outputs": [
    {
     "ename": "ValueError",
     "evalue": "n_samples=6 should be >= n_clusters=8",
     "output_type": "error",
     "traceback": [
      "\u001b[1;31m---------------------------------------------------------------------------\u001b[0m",
      "\u001b[1;31mValueError\u001b[0m                                Traceback (most recent call last)",
      "\u001b[1;32m<ipython-input-1-a5a8638fbda0>\u001b[0m in \u001b[0;36m<module>\u001b[1;34m\u001b[0m\n\u001b[0;32m     10\u001b[0m               [9, 11]])\n\u001b[0;32m     11\u001b[0m \u001b[0mkmeans\u001b[0m \u001b[1;33m=\u001b[0m \u001b[0mKMeans\u001b[0m\u001b[1;33m(\u001b[0m\u001b[1;33m)\u001b[0m\u001b[1;33m\u001b[0m\u001b[1;33m\u001b[0m\u001b[0m\n\u001b[1;32m---> 12\u001b[1;33m \u001b[0mkmeans\u001b[0m\u001b[1;33m.\u001b[0m\u001b[0mfit\u001b[0m\u001b[1;33m(\u001b[0m\u001b[0mX\u001b[0m\u001b[1;33m)\u001b[0m\u001b[1;33m\u001b[0m\u001b[1;33m\u001b[0m\u001b[0m\n\u001b[0m\u001b[0;32m     13\u001b[0m \u001b[1;33m\u001b[0m\u001b[0m\n\u001b[0;32m     14\u001b[0m \u001b[0mcentroids\u001b[0m \u001b[1;33m=\u001b[0m \u001b[0mkmeans\u001b[0m\u001b[1;33m.\u001b[0m\u001b[0mcluster_centers_\u001b[0m\u001b[1;33m\u001b[0m\u001b[1;33m\u001b[0m\u001b[0m\n",
      "\u001b[1;32m~\\Anaconda3\\lib\\site-packages\\sklearn\\cluster\\k_means_.py\u001b[0m in \u001b[0;36mfit\u001b[1;34m(self, X, y, sample_weight)\u001b[0m\n\u001b[0;32m    969\u001b[0m                 \u001b[0mtol\u001b[0m\u001b[1;33m=\u001b[0m\u001b[0mself\u001b[0m\u001b[1;33m.\u001b[0m\u001b[0mtol\u001b[0m\u001b[1;33m,\u001b[0m \u001b[0mrandom_state\u001b[0m\u001b[1;33m=\u001b[0m\u001b[0mrandom_state\u001b[0m\u001b[1;33m,\u001b[0m \u001b[0mcopy_x\u001b[0m\u001b[1;33m=\u001b[0m\u001b[0mself\u001b[0m\u001b[1;33m.\u001b[0m\u001b[0mcopy_x\u001b[0m\u001b[1;33m,\u001b[0m\u001b[1;33m\u001b[0m\u001b[1;33m\u001b[0m\u001b[0m\n\u001b[0;32m    970\u001b[0m                 \u001b[0mn_jobs\u001b[0m\u001b[1;33m=\u001b[0m\u001b[0mself\u001b[0m\u001b[1;33m.\u001b[0m\u001b[0mn_jobs\u001b[0m\u001b[1;33m,\u001b[0m \u001b[0malgorithm\u001b[0m\u001b[1;33m=\u001b[0m\u001b[0mself\u001b[0m\u001b[1;33m.\u001b[0m\u001b[0malgorithm\u001b[0m\u001b[1;33m,\u001b[0m\u001b[1;33m\u001b[0m\u001b[1;33m\u001b[0m\u001b[0m\n\u001b[1;32m--> 971\u001b[1;33m                 return_n_iter=True)\n\u001b[0m\u001b[0;32m    972\u001b[0m         \u001b[1;32mreturn\u001b[0m \u001b[0mself\u001b[0m\u001b[1;33m\u001b[0m\u001b[1;33m\u001b[0m\u001b[0m\n\u001b[0;32m    973\u001b[0m \u001b[1;33m\u001b[0m\u001b[0m\n",
      "\u001b[1;32m~\\Anaconda3\\lib\\site-packages\\sklearn\\cluster\\k_means_.py\u001b[0m in \u001b[0;36mk_means\u001b[1;34m(X, n_clusters, sample_weight, init, precompute_distances, n_init, max_iter, verbose, tol, random_state, copy_x, n_jobs, algorithm, return_n_iter)\u001b[0m\n\u001b[0;32m    313\u001b[0m     \u001b[1;32mif\u001b[0m \u001b[0m_num_samples\u001b[0m\u001b[1;33m(\u001b[0m\u001b[0mX\u001b[0m\u001b[1;33m)\u001b[0m \u001b[1;33m<\u001b[0m \u001b[0mn_clusters\u001b[0m\u001b[1;33m:\u001b[0m\u001b[1;33m\u001b[0m\u001b[1;33m\u001b[0m\u001b[0m\n\u001b[0;32m    314\u001b[0m         raise ValueError(\"n_samples=%d should be >= n_clusters=%d\" % (\n\u001b[1;32m--> 315\u001b[1;33m             _num_samples(X), n_clusters))\n\u001b[0m\u001b[0;32m    316\u001b[0m \u001b[1;33m\u001b[0m\u001b[0m\n\u001b[0;32m    317\u001b[0m     \u001b[0mtol\u001b[0m \u001b[1;33m=\u001b[0m \u001b[0m_tolerance\u001b[0m\u001b[1;33m(\u001b[0m\u001b[0mX\u001b[0m\u001b[1;33m,\u001b[0m \u001b[0mtol\u001b[0m\u001b[1;33m)\u001b[0m\u001b[1;33m\u001b[0m\u001b[1;33m\u001b[0m\u001b[0m\n",
      "\u001b[1;31mValueError\u001b[0m: n_samples=6 should be >= n_clusters=8"
     ]
    }
   ],
   "source": [
    "import matplotlib.pyplot as plt\n",
    "import numpy as np\n",
    "from sklearn.cluster import KMeans\n",
    "\n",
    "X = np.array([[1, 2],\n",
    "              [5, 8],\n",
    "              [1.5, 1.8],\n",
    "              [8, 8],\n",
    "              [1, 0.6],\n",
    "              [9, 11]])\n",
    "kmeans = KMeans()\n",
    "kmeans.fit(X)\n",
    "\n",
    "centroids = kmeans.cluster_centers_\n",
    "labels = kmeans.labels_\n",
    "\n",
    "print(centroids)\n",
    "print(labels)\n",
    "\n",
    "colors = [\"g.\",\"r.\",\"c.\",\"y.\"]\n",
    "\n",
    "for i in range(len(X)):\n",
    "    print(\"coordinate:\",X[i], \"label:\", labels[i])\n",
    "    plt.plot(X[i][0], X[i][1], colors[labels[i]], markersize = 10)\n",
    "\n",
    "plt.scatter(centroids[:, 0], centroids[:, 1], marker=\"x\", s=150, linewidths=5, zorder=10)\n",
    "\n",
    "plt.show()"
   ]
  },
  {
   "cell_type": "code",
   "execution_count": 3,
   "metadata": {},
   "outputs": [],
   "source": [
    "file = open(\"./AI-Dutch.txt\",\"w\")\n"
   ]
  },
  {
   "cell_type": "code",
   "execution_count": 4,
   "metadata": {},
   "outputs": [
    {
     "data": {
      "text/plain": [
       "10"
      ]
     },
     "execution_count": 4,
     "metadata": {},
     "output_type": "execute_result"
    }
   ],
   "source": [
    "file.write(\"Hello how are you?\\n\")\n",
    "file.write(\"i am fine\\n\")"
   ]
  },
  {
   "cell_type": "code",
   "execution_count": 6,
   "metadata": {},
   "outputs": [
    {
     "data": {
      "text/plain": [
       "['Hello how are you?\\n', 'i am fine\\n']"
      ]
     },
     "execution_count": 6,
     "metadata": {},
     "output_type": "execute_result"
    }
   ],
   "source": [
    "file.close()\n",
    "\n",
    "file = open(\"./AI-Dutch.txt\",\"r\")\n",
    "file.readlines()"
   ]
  },
  {
   "cell_type": "code",
   "execution_count": 12,
   "metadata": {},
   "outputs": [
    {
     "data": {
      "text/html": [
       "<div>\n",
       "<style scoped>\n",
       "    .dataframe tbody tr th:only-of-type {\n",
       "        vertical-align: middle;\n",
       "    }\n",
       "\n",
       "    .dataframe tbody tr th {\n",
       "        vertical-align: top;\n",
       "    }\n",
       "\n",
       "    .dataframe thead th {\n",
       "        text-align: right;\n",
       "    }\n",
       "</style>\n",
       "<table border=\"1\" class=\"dataframe\">\n",
       "  <thead>\n",
       "    <tr style=\"text-align: right;\">\n",
       "      <th></th>\n",
       "      <th>fruit</th>\n",
       "      <th>vegetable</th>\n",
       "      <th>fruits 2</th>\n",
       "      <th>vegetable 2</th>\n",
       "    </tr>\n",
       "  </thead>\n",
       "  <tbody>\n",
       "    <tr>\n",
       "      <th>a</th>\n",
       "      <td>apple</td>\n",
       "      <td>onion</td>\n",
       "      <td>apple</td>\n",
       "      <td>onion</td>\n",
       "    </tr>\n",
       "    <tr>\n",
       "      <th>b</th>\n",
       "      <td>mango</td>\n",
       "      <td>potato</td>\n",
       "      <td>mango</td>\n",
       "      <td>potato</td>\n",
       "    </tr>\n",
       "    <tr>\n",
       "      <th>c</th>\n",
       "      <td>orange</td>\n",
       "      <td>beans</td>\n",
       "      <td>pine apple</td>\n",
       "      <td>carrot</td>\n",
       "    </tr>\n",
       "  </tbody>\n",
       "</table>\n",
       "</div>"
      ],
      "text/plain": [
       "    fruit vegetable    fruits 2 vegetable 2\n",
       "a   apple     onion       apple       onion\n",
       "b   mango    potato       mango      potato\n",
       "c  orange     beans  pine apple      carrot"
      ]
     },
     "execution_count": 12,
     "metadata": {},
     "output_type": "execute_result"
    }
   ],
   "source": [
    "import pandas as pd\n",
    "\n",
    "\n",
    "csvData = pd.read_csv(\"./fruits_vege.csv\",index_col=0,header=0)\n",
    "\n",
    "csvData"
   ]
  },
  {
   "cell_type": "code",
   "execution_count": 13,
   "metadata": {},
   "outputs": [
    {
     "data": {
      "image/png": "[encoded data removed]",
      "text/plain": [
       "<Figure size 432x288 with 1 Axes>"
      ]
     },
     "metadata": {
      "needs_background": "light"
     },
     "output_type": "display_data"
    }
   ],
   "source": [
    "import matplotlib.pyplot as plt\n",
    "x = [1,2,3,4,5,6,7]\n",
    "y = [1,4,9,16,25,36,49]\n",
    "plt.plot(x,y,color=\"black\",linewidth=2)\n",
    "plt.xlabel(\"n\")\n",
    "plt.ylabel(\"n**2\")\n",
    "plt.title(\"Line graph\")\n",
    "plt.show()"
   ]
  },
  {
   "cell_type": "code",
   "execution_count": 14,
   "metadata": {},
   "outputs": [
    {
     "data": {
      "image/png": "[encoded data removed]",
      "text/plain": [
       "<Figure size 432x288 with 1 Axes>"
      ]
     },
     "metadata": {
      "needs_background": "light"
     },
     "output_type": "display_data"
    }
   ],
   "source": [
    "x = [1,2,3,4,5,6,7]\n",
    "y = [1,4,9,16,25,36,49]\n",
    "plt.scatter(x,y,color=\"black\",linewidth=2,marker='x')\n",
    "plt.xlabel(\"n\")\n",
    "plt.ylabel(\"n**2\")\n",
    "plt.legend([\"data\"],loc=\"upper left\")\n",
    "plt.title(\"Line graph\")\n",
    "plt.show()"
   ]
  },
  {
   "cell_type": "code",
   "execution_count": 15,
   "metadata": {},
   "outputs": [
    {
     "data": {
      "image/png": "[encoded data removed]",
      "text/plain": [
       "<Figure size 432x288 with 1 Axes>"
      ]
     },
     "metadata": {
      "needs_background": "light"
     },
     "output_type": "display_data"
    }
   ],
   "source": [
    "\n",
    "import numpy as np\n",
    "\n",
    "t = np.arange(0., 5., 0.2)\n",
    "plt.plot(t, t, 'r--', t, t ** 2, 'bs', t, t ** 3, 'g^')\n",
    "plt.show()"
   ]
  },
  {
   "cell_type": "code",
   "execution_count": 16,
   "metadata": {},
   "outputs": [
    {
     "data": {
      "image/png": "[encoded data removed]",
      "text/plain": [
       "<Figure size 432x288 with 2 Axes>"
      ]
     },
     "metadata": {
      "needs_background": "light"
     },
     "output_type": "display_data"
    }
   ],
   "source": [
    "def f(t):\n",
    "    return np.exp(-t) * np.cos(2 * np.pi * t)\n",
    "\n",
    "\n",
    "t1 = np.arange(0.0, 5.0, 0.1)\n",
    "t2 = np.arange(0.0, 5.0, 0.02)\n",
    "\n",
    "plt.subplot(211)\n",
    "plt.plot(t1, f(t1), 'bo', t2, f(t2), 'k')\n",
    "plt.legend(['t1 vs f(t1)',\"t2 vs f(t2)\"])\n",
    "plt.subplot(212)\n",
    "plt.plot(t2, np.cos(2 * np.pi * t2), 'r--')\n",
    "plt.show()"
   ]
  },
  {
   "cell_type": "code",
   "execution_count": 17,
   "metadata": {},
   "outputs": [
    {
     "name": "stderr",
     "output_type": "stream",
     "text": [
      "C:\\Users\\admin\\Anaconda3\\lib\\site-packages\\matplotlib\\axes\\_axes.py:6521: MatplotlibDeprecationWarning: \n",
      "The 'normed' kwarg was deprecated in Matplotlib 2.1 and will be removed in 3.1. Use 'density' instead.\n",
      "  alternative=\"'density'\", removal=\"3.1\")\n"
     ]
    },
    {
     "data": {
      "image/png": "[encoded data removed]",
      "text/plain": [
       "<Figure size 432x288 with 1 Axes>"
      ]
     },
     "metadata": {
      "needs_background": "light"
     },
     "output_type": "display_data"
    }
   ],
   "source": [
    "mu, sigma = 100, 15\n",
    "x = mu + sigma * np.random.randn(10000)\n",
    "plt.hist(x, 50, normed=1, facecolor='g', alpha=0.75)\n",
    "\n",
    "plt.xlabel('Smarts')\n",
    "plt.ylabel('Probability')\n",
    "plt.title('Histogram of IQ')\n",
    "plt.text(60, .025, r'$\\mu=100,\\ \\sigma=15$')\n",
    "plt.axis([40, 160, 0, 0.03])\n",
    "plt.show()"
   ]
  },
  {
   "cell_type": "code",
   "execution_count": 18,
   "metadata": {},
   "outputs": [
    {
     "data": {
      "image/png": "[encoded data removed]",
      "text/plain": [
       "<Figure size 432x288 with 1 Axes>"
      ]
     },
     "metadata": {
      "needs_background": "light"
     },
     "output_type": "display_data"
    }
   ],
   "source": [
    "n = 12\n",
    "X = np.arange(n)\n",
    "Y1 = (1 - X / float(n)) * np.random.uniform(0.5, 1.0, n)\n",
    "Y2 = (1 - X / float(n)) * np.random.uniform(0.5, 1.0, n)\n",
    "\n",
    "plt.bar(X, +Y1, facecolor='#9999ff', edgecolor='white')\n",
    "plt.bar(X, -Y2, facecolor='#ff9999', edgecolor='white')\n",
    "\n",
    "for x, y in zip(X, Y1):\n",
    "    plt.text(x + 0.4, y + 0.05, '%.2f' % y, ha='center', va='bottom')\n",
    "\n",
    "plt.ylim(-1.25, +1.25)\n",
    "plt.show()"
   ]
  },
  {
   "cell_type": "code",
   "execution_count": 19,
   "metadata": {},
   "outputs": [
    {
     "data": {
      "image/png": "[encoded data removed]",
      "text/plain": [
       "<Figure size 432x288 with 1 Axes>"
      ]
     },
     "metadata": {},
     "output_type": "display_data"
    }
   ],
   "source": [
    "plt.pie(X, +Y1,radius=1)\n",
    "plt.show()"
   ]
  },
  {
   "cell_type": "code",
   "execution_count": 20,
   "metadata": {},
   "outputs": [
    {
     "data": {
      "image/png": "[encoded data removed]",
      "text/plain": [
       "<Figure size 432x288 with 1 Axes>"
      ]
     },
     "metadata": {
      "needs_background": "light"
     },
     "output_type": "display_data"
    }
   ],
   "source": [
    "import matplotlib.pyplot as plt\n",
    "plt.hist([10,20,30,40,50,60],density=1)\n",
    "plt.show()"
   ]
  },
  {
   "cell_type": "code",
   "execution_count": 21,
   "metadata": {},
   "outputs": [
    {
     "data": {
      "image/png": "[encoded data removed]",
      "text/plain": [
       "<Figure size 432x288 with 1 Axes>"
      ]
     },
     "metadata": {
      "needs_background": "light"
     },
     "output_type": "display_data"
    }
   ],
   "source": [
    "t = np.arange(0.0, 5.0, 0.01)\n",
    "s = np.cos(2 * np.pi * t)\n",
    "plt.plot(t, s, lw=2)\n",
    "\n",
    "plt.annotate('local max', xy=(2, 1), xytext=(3, 1.5),\n",
    "             arrowprops=dict(facecolor='black', shrink=0.05),\n",
    "             )\n",
    "\n",
    "plt.ylim(-2, 2)\n",
    "\n",
    "plt.show()"
   ]
  },
  {
   "cell_type": "code",
   "execution_count": null,
   "metadata": {},
   "outputs": [],
   "source": []
  }
 ],
 "metadata": {
  "kernelspec": {
   "display_name": "Python 3",
   "language": "python",
   "name": "python3"
  },
  "language_info": {
   "codemirror_mode": {
    "name": "ipython",
    "version": 3
   },
   "file_extension": ".py",
   "mimetype": "text/x-python",
   "name": "python",
   "nbconvert_exporter": "python",
   "pygments_lexer": "ipython3",
   "version": "3.7.1"
  }
 },
 "nbformat": 4,
 "nbformat_minor": 2
}
